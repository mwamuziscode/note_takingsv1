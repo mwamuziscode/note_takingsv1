{
 "cells": [
  {
   "cell_type": "code",
   "execution_count": 19,
   "id": "ad97340b-c075-4ab6-9a3a-d90464965dca",
   "metadata": {},
   "outputs": [
    {
     "name": "stdout",
     "output_type": "stream",
     "text": [
      "(x -2) is a factor\n"
     ]
    }
   ],
   "source": [
    "import subprocess\n",
    "import math as m\n",
    "\n",
    "# make P(x) be polynom p(x) is factor (x - x2)\n",
    "# m m.sqrt()\n",
    "\n",
    "# p(x) = 2x**2 + 3x - 2\n",
    "\n",
    "# find out out if (x + 2) is a factor of p(x)\n",
    "def p(x):\n",
    "    r = 2 * x**2 + 3*x - 2\n",
    "    if r == 0:\n",
    "        print(f\"(x -2) is a factor\")\n",
    "    else:\n",
    "        print(\"because p(-2) != 0, is (x -2) not a factor in p(x)\")\n",
    "p(-2)\n"
   ]
  },
  {
   "cell_type": "code",
   "execution_count": 21,
   "id": "14534ddc-d77e-4797-975f-4c6960d8c10f",
   "metadata": {},
   "outputs": [
    {
     "name": "stdout",
     "output_type": "stream",
     "text": [
      "because p(-2) != 0, is (x -2) not a factor in p(x)\n"
     ]
    }
   ],
   "source": [
    "def p(x):\n",
    "    r = x**3 + 3*x*2 + 2*x\n",
    "    if r == 0:\n",
    "        print(f\"(x -2) is a factor\")\n",
    "    else:\n",
    "        print(\"because p(-2) != 0, is (x -2) not a factor in p(x)\")\n",
    "p(-2)"
   ]
  },
  {
   "cell_type": "code",
   "execution_count": null,
   "id": "f2e96054-63cf-4d98-9ce5-0815fe4253ad",
   "metadata": {},
   "outputs": [],
   "source": [
    "import turtle\n",
    "import math\n",
    "\n",
    "def draw_fibonacci_spiral(n):\n",
    "    screen = turtle.Screen()\n",
    "    screen.bgcolor(\"black\")\n",
    "    \n",
    "    fib_turtle = turtle.Turtle()\n",
    "    fib_turtle.speed(0)\n",
    "    fib_turtle.pensize(2)\n",
    "    fib_turtle.pencolor(\"gold\")\n",
    "    \n",
    "    a, b = 0, 1\n",
    "    for _ in range(n):\n",
    "        fib_turtle.circle(b, 90)\n",
    "        a, b = b, a + b\n",
    "    \n",
    "    fib_turtle.hideturtle()\n",
    "    screen.mainloop()\n",
    "\n",
    "# Change the number to increase/decrease Fibonacci levels\n",
    "draw_fibonacci_spiral(10)\n"
   ]
  },
  {
   "cell_type": "code",
   "execution_count": null,
   "id": "253cd2b5-bc95-48b6-99ae-6667f8b97fb2",
   "metadata": {},
   "outputs": [],
   "source": []
  }
 ],
 "metadata": {
  "kernelspec": {
   "display_name": "Python 3 (ipykernel)",
   "language": "python",
   "name": "python3"
  },
  "language_info": {
   "codemirror_mode": {
    "name": "ipython",
    "version": 3
   },
   "file_extension": ".py",
   "mimetype": "text/x-python",
   "name": "python",
   "nbconvert_exporter": "python",
   "pygments_lexer": "ipython3",
   "version": "3.13.1"
  }
 },
 "nbformat": 4,
 "nbformat_minor": 5
}
